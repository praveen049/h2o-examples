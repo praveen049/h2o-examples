{
 "cells": [
  {
   "cell_type": "markdown",
   "metadata": {},
   "source": [
    "https://gist.github.com/ledell/ba15de6369bff206fe2c46101dbfd254"
   ]
  },
  {
   "cell_type": "code",
   "execution_count": 3,
   "metadata": {},
   "outputs": [],
   "source": [
    "import h2o"
   ]
  },
  {
   "cell_type": "code",
   "execution_count": 4,
   "metadata": {},
   "outputs": [
    {
     "name": "stdout",
     "output_type": "stream",
     "text": [
      "Checking whether there is an H2O instance running at http://localhost:54321 . connected.\n"
     ]
    },
    {
     "data": {
      "text/html": [
       "<div style=\"overflow:auto\"><table style=\"width:50%\"><tr><td>H2O cluster uptime:</td>\n",
       "<td>1 hour 39 mins</td></tr>\n",
       "<tr><td>H2O cluster timezone:</td>\n",
       "<td>Asia/Shanghai</td></tr>\n",
       "<tr><td>H2O data parsing timezone:</td>\n",
       "<td>UTC</td></tr>\n",
       "<tr><td>H2O cluster version:</td>\n",
       "<td>3.24.0.4</td></tr>\n",
       "<tr><td>H2O cluster version age:</td>\n",
       "<td>18 days </td></tr>\n",
       "<tr><td>H2O cluster name:</td>\n",
       "<td>H2O_from_python_bezawada_u43ztg</td></tr>\n",
       "<tr><td>H2O cluster total nodes:</td>\n",
       "<td>1</td></tr>\n",
       "<tr><td>H2O cluster free memory:</td>\n",
       "<td>1.653 Gb</td></tr>\n",
       "<tr><td>H2O cluster total cores:</td>\n",
       "<td>4</td></tr>\n",
       "<tr><td>H2O cluster allowed cores:</td>\n",
       "<td>4</td></tr>\n",
       "<tr><td>H2O cluster status:</td>\n",
       "<td>locked, healthy</td></tr>\n",
       "<tr><td>H2O connection url:</td>\n",
       "<td>http://localhost:54321</td></tr>\n",
       "<tr><td>H2O connection proxy:</td>\n",
       "<td>None</td></tr>\n",
       "<tr><td>H2O internal security:</td>\n",
       "<td>False</td></tr>\n",
       "<tr><td>H2O API Extensions:</td>\n",
       "<td>Amazon S3, XGBoost, Algos, AutoML, Core V3, Core V4</td></tr>\n",
       "<tr><td>Python version:</td>\n",
       "<td>3.7.2 final</td></tr></table></div>"
      ],
      "text/plain": [
       "--------------------------  ---------------------------------------------------\n",
       "H2O cluster uptime:         1 hour 39 mins\n",
       "H2O cluster timezone:       Asia/Shanghai\n",
       "H2O data parsing timezone:  UTC\n",
       "H2O cluster version:        3.24.0.4\n",
       "H2O cluster version age:    18 days\n",
       "H2O cluster name:           H2O_from_python_bezawada_u43ztg\n",
       "H2O cluster total nodes:    1\n",
       "H2O cluster free memory:    1.653 Gb\n",
       "H2O cluster total cores:    4\n",
       "H2O cluster allowed cores:  4\n",
       "H2O cluster status:         locked, healthy\n",
       "H2O connection url:         http://localhost:54321\n",
       "H2O connection proxy:\n",
       "H2O internal security:      False\n",
       "H2O API Extensions:         Amazon S3, XGBoost, Algos, AutoML, Core V3, Core V4\n",
       "Python version:             3.7.2 final\n",
       "--------------------------  ---------------------------------------------------"
      ]
     },
     "metadata": {},
     "output_type": "display_data"
    }
   ],
   "source": [
    "h2o.init()"
   ]
  },
  {
   "cell_type": "code",
   "execution_count": 3,
   "metadata": {},
   "outputs": [],
   "source": [
    "from h2o.automl import H2OAutoML"
   ]
  },
  {
   "cell_type": "code",
   "execution_count": 4,
   "metadata": {},
   "outputs": [
    {
     "name": "stdout",
     "output_type": "stream",
     "text": [
      "Parse progress: |█████████████████████████████████████████████████████████| 100%\n"
     ]
    }
   ],
   "source": [
    "train = h2o.import_file(\"../data/agaricus-lepiota.data\")"
   ]
  },
  {
   "cell_type": "code",
   "execution_count": 5,
   "metadata": {},
   "outputs": [
    {
     "name": "stdout",
     "output_type": "stream",
     "text": [
      "Rows:8124\n",
      "Cols:23\n",
      "\n",
      "\n"
     ]
    },
    {
     "data": {
      "text/html": [
       "<table>\n",
       "<thead>\n",
       "<tr><th>       </th><th>C1  </th><th>C2  </th><th>C3  </th><th>C4  </th><th>C5  </th><th>C6  </th><th>C7  </th><th>C8  </th><th>C9  </th><th>C10  </th><th>C11  </th><th>C12  </th><th>C13  </th><th>C14  </th><th>C15  </th><th>C16  </th><th>C17  </th><th>C18  </th><th>C19  </th><th>C20  </th><th>C21  </th><th>C22  </th><th>C23  </th></tr>\n",
       "</thead>\n",
       "<tbody>\n",
       "<tr><td>type   </td><td>enum</td><td>enum</td><td>enum</td><td>enum</td><td>enum</td><td>enum</td><td>enum</td><td>enum</td><td>enum</td><td>enum </td><td>enum </td><td>enum </td><td>enum </td><td>enum </td><td>enum </td><td>enum </td><td>enum </td><td>enum </td><td>enum </td><td>enum </td><td>enum </td><td>enum </td><td>enum </td></tr>\n",
       "<tr><td>mins   </td><td>    </td><td>    </td><td>    </td><td>    </td><td>    </td><td>    </td><td>    </td><td>    </td><td>    </td><td>     </td><td>     </td><td>     </td><td>     </td><td>     </td><td>     </td><td>     </td><td>     </td><td>     </td><td>     </td><td>     </td><td>     </td><td>     </td><td>     </td></tr>\n",
       "<tr><td>mean   </td><td>    </td><td>    </td><td>    </td><td>    </td><td>    </td><td>    </td><td>    </td><td>    </td><td>    </td><td>     </td><td>     </td><td>     </td><td>     </td><td>     </td><td>     </td><td>     </td><td>     </td><td>     </td><td>     </td><td>     </td><td>     </td><td>     </td><td>     </td></tr>\n",
       "<tr><td>maxs   </td><td>    </td><td>    </td><td>    </td><td>    </td><td>    </td><td>    </td><td>    </td><td>    </td><td>    </td><td>     </td><td>     </td><td>     </td><td>     </td><td>     </td><td>     </td><td>     </td><td>     </td><td>     </td><td>     </td><td>     </td><td>     </td><td>     </td><td>     </td></tr>\n",
       "<tr><td>sigma  </td><td>    </td><td>    </td><td>    </td><td>    </td><td>    </td><td>    </td><td>    </td><td>    </td><td>    </td><td>     </td><td>     </td><td>     </td><td>     </td><td>     </td><td>     </td><td>     </td><td>     </td><td>     </td><td>     </td><td>     </td><td>     </td><td>     </td><td>     </td></tr>\n",
       "<tr><td>zeros  </td><td>    </td><td>    </td><td>    </td><td>    </td><td>    </td><td>    </td><td>    </td><td>    </td><td>    </td><td>     </td><td>     </td><td>     </td><td>     </td><td>     </td><td>     </td><td>     </td><td>     </td><td>     </td><td>     </td><td>     </td><td>     </td><td>     </td><td>     </td></tr>\n",
       "<tr><td>missing</td><td>0   </td><td>0   </td><td>0   </td><td>0   </td><td>0   </td><td>0   </td><td>0   </td><td>0   </td><td>0   </td><td>0    </td><td>0    </td><td>0    </td><td>0    </td><td>0    </td><td>0    </td><td>0    </td><td>0    </td><td>0    </td><td>0    </td><td>0    </td><td>0    </td><td>0    </td><td>0    </td></tr>\n",
       "<tr><td>0      </td><td>p   </td><td>x   </td><td>s   </td><td>n   </td><td>t   </td><td>p   </td><td>f   </td><td>c   </td><td>n   </td><td>k    </td><td>e    </td><td>e    </td><td>s    </td><td>s    </td><td>w    </td><td>w    </td><td>p    </td><td>w    </td><td>o    </td><td>p    </td><td>k    </td><td>s    </td><td>u    </td></tr>\n",
       "<tr><td>1      </td><td>e   </td><td>x   </td><td>s   </td><td>y   </td><td>t   </td><td>a   </td><td>f   </td><td>c   </td><td>b   </td><td>k    </td><td>e    </td><td>c    </td><td>s    </td><td>s    </td><td>w    </td><td>w    </td><td>p    </td><td>w    </td><td>o    </td><td>p    </td><td>n    </td><td>n    </td><td>g    </td></tr>\n",
       "<tr><td>2      </td><td>e   </td><td>b   </td><td>s   </td><td>w   </td><td>t   </td><td>l   </td><td>f   </td><td>c   </td><td>b   </td><td>n    </td><td>e    </td><td>c    </td><td>s    </td><td>s    </td><td>w    </td><td>w    </td><td>p    </td><td>w    </td><td>o    </td><td>p    </td><td>n    </td><td>n    </td><td>m    </td></tr>\n",
       "<tr><td>3      </td><td>p   </td><td>x   </td><td>y   </td><td>w   </td><td>t   </td><td>p   </td><td>f   </td><td>c   </td><td>n   </td><td>n    </td><td>e    </td><td>e    </td><td>s    </td><td>s    </td><td>w    </td><td>w    </td><td>p    </td><td>w    </td><td>o    </td><td>p    </td><td>k    </td><td>s    </td><td>u    </td></tr>\n",
       "<tr><td>4      </td><td>e   </td><td>x   </td><td>s   </td><td>g   </td><td>f   </td><td>n   </td><td>f   </td><td>w   </td><td>b   </td><td>k    </td><td>t    </td><td>e    </td><td>s    </td><td>s    </td><td>w    </td><td>w    </td><td>p    </td><td>w    </td><td>o    </td><td>e    </td><td>n    </td><td>a    </td><td>g    </td></tr>\n",
       "<tr><td>5      </td><td>e   </td><td>x   </td><td>y   </td><td>y   </td><td>t   </td><td>a   </td><td>f   </td><td>c   </td><td>b   </td><td>n    </td><td>e    </td><td>c    </td><td>s    </td><td>s    </td><td>w    </td><td>w    </td><td>p    </td><td>w    </td><td>o    </td><td>p    </td><td>k    </td><td>n    </td><td>g    </td></tr>\n",
       "<tr><td>6      </td><td>e   </td><td>b   </td><td>s   </td><td>w   </td><td>t   </td><td>a   </td><td>f   </td><td>c   </td><td>b   </td><td>g    </td><td>e    </td><td>c    </td><td>s    </td><td>s    </td><td>w    </td><td>w    </td><td>p    </td><td>w    </td><td>o    </td><td>p    </td><td>k    </td><td>n    </td><td>m    </td></tr>\n",
       "<tr><td>7      </td><td>e   </td><td>b   </td><td>y   </td><td>w   </td><td>t   </td><td>l   </td><td>f   </td><td>c   </td><td>b   </td><td>n    </td><td>e    </td><td>c    </td><td>s    </td><td>s    </td><td>w    </td><td>w    </td><td>p    </td><td>w    </td><td>o    </td><td>p    </td><td>n    </td><td>s    </td><td>m    </td></tr>\n",
       "<tr><td>8      </td><td>p   </td><td>x   </td><td>y   </td><td>w   </td><td>t   </td><td>p   </td><td>f   </td><td>c   </td><td>n   </td><td>p    </td><td>e    </td><td>e    </td><td>s    </td><td>s    </td><td>w    </td><td>w    </td><td>p    </td><td>w    </td><td>o    </td><td>p    </td><td>k    </td><td>v    </td><td>g    </td></tr>\n",
       "<tr><td>9      </td><td>e   </td><td>b   </td><td>s   </td><td>y   </td><td>t   </td><td>a   </td><td>f   </td><td>c   </td><td>b   </td><td>g    </td><td>e    </td><td>c    </td><td>s    </td><td>s    </td><td>w    </td><td>w    </td><td>p    </td><td>w    </td><td>o    </td><td>p    </td><td>k    </td><td>s    </td><td>m    </td></tr>\n",
       "</tbody>\n",
       "</table>"
      ]
     },
     "metadata": {},
     "output_type": "display_data"
    }
   ],
   "source": [
    "train.describe()"
   ]
  },
  {
   "cell_type": "code",
   "execution_count": 6,
   "metadata": {},
   "outputs": [
    {
     "data": {
      "text/html": [
       "<table>\n",
       "<thead>\n",
       "<tr><th>C1  </th><th>C2  </th><th>C3  </th><th>C4  </th><th>C5  </th><th>C6  </th><th>C7  </th><th>C8  </th><th>C9  </th><th>C10  </th><th>C11  </th><th>C12  </th><th>C13  </th><th>C14  </th><th>C15  </th><th>C16  </th><th>C17  </th><th>C18  </th><th>C19  </th><th>C20  </th><th>C21  </th><th>C22  </th><th>C23  </th></tr>\n",
       "</thead>\n",
       "<tbody>\n",
       "<tr><td>p   </td><td>x   </td><td>s   </td><td>n   </td><td>t   </td><td>p   </td><td>f   </td><td>c   </td><td>n   </td><td>k    </td><td>e    </td><td>e    </td><td>s    </td><td>s    </td><td>w    </td><td>w    </td><td>p    </td><td>w    </td><td>o    </td><td>p    </td><td>k    </td><td>s    </td><td>u    </td></tr>\n",
       "<tr><td>e   </td><td>x   </td><td>s   </td><td>y   </td><td>t   </td><td>a   </td><td>f   </td><td>c   </td><td>b   </td><td>k    </td><td>e    </td><td>c    </td><td>s    </td><td>s    </td><td>w    </td><td>w    </td><td>p    </td><td>w    </td><td>o    </td><td>p    </td><td>n    </td><td>n    </td><td>g    </td></tr>\n",
       "<tr><td>e   </td><td>b   </td><td>s   </td><td>w   </td><td>t   </td><td>l   </td><td>f   </td><td>c   </td><td>b   </td><td>n    </td><td>e    </td><td>c    </td><td>s    </td><td>s    </td><td>w    </td><td>w    </td><td>p    </td><td>w    </td><td>o    </td><td>p    </td><td>n    </td><td>n    </td><td>m    </td></tr>\n",
       "<tr><td>p   </td><td>x   </td><td>y   </td><td>w   </td><td>t   </td><td>p   </td><td>f   </td><td>c   </td><td>n   </td><td>n    </td><td>e    </td><td>e    </td><td>s    </td><td>s    </td><td>w    </td><td>w    </td><td>p    </td><td>w    </td><td>o    </td><td>p    </td><td>k    </td><td>s    </td><td>u    </td></tr>\n",
       "<tr><td>e   </td><td>x   </td><td>s   </td><td>g   </td><td>f   </td><td>n   </td><td>f   </td><td>w   </td><td>b   </td><td>k    </td><td>t    </td><td>e    </td><td>s    </td><td>s    </td><td>w    </td><td>w    </td><td>p    </td><td>w    </td><td>o    </td><td>e    </td><td>n    </td><td>a    </td><td>g    </td></tr>\n",
       "<tr><td>e   </td><td>x   </td><td>y   </td><td>y   </td><td>t   </td><td>a   </td><td>f   </td><td>c   </td><td>b   </td><td>n    </td><td>e    </td><td>c    </td><td>s    </td><td>s    </td><td>w    </td><td>w    </td><td>p    </td><td>w    </td><td>o    </td><td>p    </td><td>k    </td><td>n    </td><td>g    </td></tr>\n",
       "<tr><td>e   </td><td>b   </td><td>s   </td><td>w   </td><td>t   </td><td>a   </td><td>f   </td><td>c   </td><td>b   </td><td>g    </td><td>e    </td><td>c    </td><td>s    </td><td>s    </td><td>w    </td><td>w    </td><td>p    </td><td>w    </td><td>o    </td><td>p    </td><td>k    </td><td>n    </td><td>m    </td></tr>\n",
       "<tr><td>e   </td><td>b   </td><td>y   </td><td>w   </td><td>t   </td><td>l   </td><td>f   </td><td>c   </td><td>b   </td><td>n    </td><td>e    </td><td>c    </td><td>s    </td><td>s    </td><td>w    </td><td>w    </td><td>p    </td><td>w    </td><td>o    </td><td>p    </td><td>n    </td><td>s    </td><td>m    </td></tr>\n",
       "<tr><td>p   </td><td>x   </td><td>y   </td><td>w   </td><td>t   </td><td>p   </td><td>f   </td><td>c   </td><td>n   </td><td>p    </td><td>e    </td><td>e    </td><td>s    </td><td>s    </td><td>w    </td><td>w    </td><td>p    </td><td>w    </td><td>o    </td><td>p    </td><td>k    </td><td>v    </td><td>g    </td></tr>\n",
       "<tr><td>e   </td><td>b   </td><td>s   </td><td>y   </td><td>t   </td><td>a   </td><td>f   </td><td>c   </td><td>b   </td><td>g    </td><td>e    </td><td>c    </td><td>s    </td><td>s    </td><td>w    </td><td>w    </td><td>p    </td><td>w    </td><td>o    </td><td>p    </td><td>k    </td><td>s    </td><td>m    </td></tr>\n",
       "</tbody>\n",
       "</table>"
      ]
     },
     "metadata": {},
     "output_type": "display_data"
    },
    {
     "data": {
      "text/plain": []
     },
     "execution_count": 6,
     "metadata": {},
     "output_type": "execute_result"
    }
   ],
   "source": [
    "train.head()"
   ]
  },
  {
   "cell_type": "code",
   "execution_count": 7,
   "metadata": {},
   "outputs": [],
   "source": [
    "y = \"C1\" #e = edible, p = poisonous"
   ]
  },
  {
   "cell_type": "code",
   "execution_count": 8,
   "metadata": {},
   "outputs": [
    {
     "name": "stdout",
     "output_type": "stream",
     "text": [
      "AutoML progress: |████████████████████████████████████████████████████████| 100%\n"
     ]
    }
   ],
   "source": [
    "aml = H2OAutoML(max_runtime_secs=600, seed=1)\n",
    "aml.train(y=y, training_frame=train)"
   ]
  },
  {
   "cell_type": "code",
   "execution_count": 9,
   "metadata": {},
   "outputs": [
    {
     "data": {
      "text/html": [
       "<table>\n",
       "<thead>\n",
       "<tr><th>model_id                                           </th><th style=\"text-align: right;\">  auc</th><th style=\"text-align: right;\">    logloss</th><th style=\"text-align: right;\">  mean_per_class_error</th><th style=\"text-align: right;\">       rmse</th><th style=\"text-align: right;\">        mse</th></tr>\n",
       "</thead>\n",
       "<tbody>\n",
       "<tr><td>StackedEnsemble_AllModels_AutoML_20190615_194258   </td><td style=\"text-align: right;\">    1</td><td style=\"text-align: right;\">0.00085597 </td><td style=\"text-align: right;\">                     0</td><td style=\"text-align: right;\">0.00120206 </td><td style=\"text-align: right;\">1.44496e-06</td></tr>\n",
       "<tr><td>XGBoost_grid_1_AutoML_20190615_194258_model_4      </td><td style=\"text-align: right;\">    1</td><td style=\"text-align: right;\">0.282855   </td><td style=\"text-align: right;\">                     0</td><td style=\"text-align: right;\">0.257518   </td><td style=\"text-align: right;\">0.0663154  </td></tr>\n",
       "<tr><td>XGBoost_grid_1_AutoML_20190615_194258_model_2      </td><td style=\"text-align: right;\">    1</td><td style=\"text-align: right;\">0.00337082 </td><td style=\"text-align: right;\">                     0</td><td style=\"text-align: right;\">0.013005   </td><td style=\"text-align: right;\">0.000169131</td></tr>\n",
       "<tr><td>XGBoost_grid_1_AutoML_20190615_194258_model_1      </td><td style=\"text-align: right;\">    1</td><td style=\"text-align: right;\">0.000166221</td><td style=\"text-align: right;\">                     0</td><td style=\"text-align: right;\">0.000846889</td><td style=\"text-align: right;\">7.17221e-07</td></tr>\n",
       "<tr><td>GBM_1_AutoML_20190615_194258                       </td><td style=\"text-align: right;\">    1</td><td style=\"text-align: right;\">4.22552e-17</td><td style=\"text-align: right;\">                     0</td><td style=\"text-align: right;\">3.56236e-15</td><td style=\"text-align: right;\">1.26904e-29</td></tr>\n",
       "<tr><td>GBM_2_AutoML_20190615_194258                       </td><td style=\"text-align: right;\">    1</td><td style=\"text-align: right;\">2.06903e-17</td><td style=\"text-align: right;\">                     0</td><td style=\"text-align: right;\">1.05991e-15</td><td style=\"text-align: right;\">1.1234e-30 </td></tr>\n",
       "<tr><td>GBM_5_AutoML_20190615_194258                       </td><td style=\"text-align: right;\">    1</td><td style=\"text-align: right;\">1.46072e-13</td><td style=\"text-align: right;\">                     0</td><td style=\"text-align: right;\">1.62172e-12</td><td style=\"text-align: right;\">2.62997e-24</td></tr>\n",
       "<tr><td>XGBoost_3_AutoML_20190615_194258                   </td><td style=\"text-align: right;\">    1</td><td style=\"text-align: right;\">0.0023949  </td><td style=\"text-align: right;\">                     0</td><td style=\"text-align: right;\">0.009404   </td><td style=\"text-align: right;\">8.84352e-05</td></tr>\n",
       "<tr><td>StackedEnsemble_BestOfFamily_AutoML_20190615_194258</td><td style=\"text-align: right;\">    1</td><td style=\"text-align: right;\">0.00141411 </td><td style=\"text-align: right;\">                     0</td><td style=\"text-align: right;\">0.0015964  </td><td style=\"text-align: right;\">2.54849e-06</td></tr>\n",
       "<tr><td>GLM_grid_1_AutoML_20190615_194258_model_1          </td><td style=\"text-align: right;\">    1</td><td style=\"text-align: right;\">0.00199809 </td><td style=\"text-align: right;\">                     0</td><td style=\"text-align: right;\">0.00783831 </td><td style=\"text-align: right;\">6.1439e-05 </td></tr>\n",
       "</tbody>\n",
       "</table>"
      ]
     },
     "metadata": {},
     "output_type": "display_data"
    },
    {
     "data": {
      "text/plain": []
     },
     "execution_count": 9,
     "metadata": {},
     "output_type": "execute_result"
    }
   ],
   "source": [
    "aml.leaderboard"
   ]
  },
  {
   "cell_type": "code",
   "execution_count": 10,
   "metadata": {},
   "outputs": [
    {
     "name": "stdout",
     "output_type": "stream",
     "text": [
      "Parse progress: |█████████████████████████████████████████████████████████| 100%\n"
     ]
    }
   ],
   "source": [
    "df = h2o.import_file(\"../data/agaricus-lepiota.data\")\n",
    "train, test = df.split_frame(ratios=[.8])"
   ]
  },
  {
   "cell_type": "code",
   "execution_count": 11,
   "metadata": {},
   "outputs": [
    {
     "name": "stdout",
     "output_type": "stream",
     "text": [
      "AutoML progress: |████████████████████████████████████████████████████████| 100%\n"
     ]
    }
   ],
   "source": [
    "aml = H2OAutoML(max_runtime_secs=600, seed=1)\n",
    "aml.train(y=y, training_frame=train)"
   ]
  },
  {
   "cell_type": "code",
   "execution_count": 12,
   "metadata": {},
   "outputs": [
    {
     "name": "stdout",
     "output_type": "stream",
     "text": [
      "\n",
      "ModelMetricsBinomial: gbm\n",
      "** Reported on test data. **\n",
      "\n",
      "MSE: 3.490808360353005e-33\n",
      "RMSE: 5.908306322756975e-17\n",
      "LogLoss: 1.5721203230907604e-17\n",
      "Mean Per-Class Error: 0.0\n",
      "AUC: 1.0\n",
      "pr_auc: 0.0\n",
      "Gini: 1.0\n",
      "Confusion Matrix (Act/Pred) for max f1 @ threshold = 1.0: \n"
     ]
    },
    {
     "data": {
      "text/html": [
       "<div style=\"overflow:auto\"><table style=\"width:50%\"><tr><td><b></b></td>\n",
       "<td><b>e</b></td>\n",
       "<td><b>p</b></td>\n",
       "<td><b>Error</b></td>\n",
       "<td><b>Rate</b></td></tr>\n",
       "<tr><td>e</td>\n",
       "<td>830.0</td>\n",
       "<td>0.0</td>\n",
       "<td>0.0</td>\n",
       "<td> (0.0/830.0)</td></tr>\n",
       "<tr><td>p</td>\n",
       "<td>0.0</td>\n",
       "<td>766.0</td>\n",
       "<td>0.0</td>\n",
       "<td> (0.0/766.0)</td></tr>\n",
       "<tr><td>Total</td>\n",
       "<td>830.0</td>\n",
       "<td>766.0</td>\n",
       "<td>0.0</td>\n",
       "<td> (0.0/1596.0)</td></tr></table></div>"
      ],
      "text/plain": [
       "       e    p    Error    Rate\n",
       "-----  ---  ---  -------  ------------\n",
       "e      830  0    0        (0.0/830.0)\n",
       "p      0    766  0        (0.0/766.0)\n",
       "Total  830  766  0        (0.0/1596.0)"
      ]
     },
     "metadata": {},
     "output_type": "display_data"
    },
    {
     "name": "stdout",
     "output_type": "stream",
     "text": [
      "Maximum Metrics: Maximum metrics at their respective thresholds\n",
      "\n"
     ]
    },
    {
     "data": {
      "text/html": [
       "<div style=\"overflow:auto\"><table style=\"width:50%\"><tr><td><b>metric</b></td>\n",
       "<td><b>threshold</b></td>\n",
       "<td><b>value</b></td>\n",
       "<td><b>idx</b></td></tr>\n",
       "<tr><td>max f1</td>\n",
       "<td>1.0</td>\n",
       "<td>1.0</td>\n",
       "<td>0.0</td></tr>\n",
       "<tr><td>max f2</td>\n",
       "<td>1.0</td>\n",
       "<td>1.0</td>\n",
       "<td>0.0</td></tr>\n",
       "<tr><td>max f0point5</td>\n",
       "<td>1.0</td>\n",
       "<td>1.0</td>\n",
       "<td>0.0</td></tr>\n",
       "<tr><td>max accuracy</td>\n",
       "<td>1.0</td>\n",
       "<td>1.0</td>\n",
       "<td>0.0</td></tr>\n",
       "<tr><td>max precision</td>\n",
       "<td>1.0</td>\n",
       "<td>1.0</td>\n",
       "<td>0.0</td></tr>\n",
       "<tr><td>max recall</td>\n",
       "<td>1.0</td>\n",
       "<td>1.0</td>\n",
       "<td>0.0</td></tr>\n",
       "<tr><td>max specificity</td>\n",
       "<td>1.0</td>\n",
       "<td>1.0</td>\n",
       "<td>0.0</td></tr>\n",
       "<tr><td>max absolute_mcc</td>\n",
       "<td>1.0</td>\n",
       "<td>1.0</td>\n",
       "<td>0.0</td></tr>\n",
       "<tr><td>max min_per_class_accuracy</td>\n",
       "<td>1.0</td>\n",
       "<td>1.0</td>\n",
       "<td>0.0</td></tr>\n",
       "<tr><td>max mean_per_class_accuracy</td>\n",
       "<td>1.0</td>\n",
       "<td>1.0</td>\n",
       "<td>0.0</td></tr></table></div>"
      ],
      "text/plain": [
       "metric                       threshold    value    idx\n",
       "---------------------------  -----------  -------  -----\n",
       "max f1                       1            1        0\n",
       "max f2                       1            1        0\n",
       "max f0point5                 1            1        0\n",
       "max accuracy                 1            1        0\n",
       "max precision                1            1        0\n",
       "max recall                   1            1        0\n",
       "max specificity              1            1        0\n",
       "max absolute_mcc             1            1        0\n",
       "max min_per_class_accuracy   1            1        0\n",
       "max mean_per_class_accuracy  1            1        0"
      ]
     },
     "metadata": {},
     "output_type": "display_data"
    },
    {
     "name": "stdout",
     "output_type": "stream",
     "text": [
      "Gains/Lift Table: Avg response rate: 47.99 %, avg score: 47.99 %\n",
      "\n"
     ]
    },
    {
     "data": {
      "text/html": [
       "<div style=\"overflow:auto\"><table style=\"width:50%\"><tr><td><b></b></td>\n",
       "<td><b>group</b></td>\n",
       "<td><b>cumulative_data_fraction</b></td>\n",
       "<td><b>lower_threshold</b></td>\n",
       "<td><b>lift</b></td>\n",
       "<td><b>cumulative_lift</b></td>\n",
       "<td><b>response_rate</b></td>\n",
       "<td><b>score</b></td>\n",
       "<td><b>cumulative_response_rate</b></td>\n",
       "<td><b>cumulative_score</b></td>\n",
       "<td><b>capture_rate</b></td>\n",
       "<td><b>cumulative_capture_rate</b></td>\n",
       "<td><b>gain</b></td>\n",
       "<td><b>cumulative_gain</b></td></tr>\n",
       "<tr><td></td>\n",
       "<td>1</td>\n",
       "<td>0.4091479</td>\n",
       "<td>1.0</td>\n",
       "<td>2.0835509</td>\n",
       "<td>2.0835509</td>\n",
       "<td>1.0</td>\n",
       "<td>1.0</td>\n",
       "<td>1.0</td>\n",
       "<td>1.0</td>\n",
       "<td>0.8524804</td>\n",
       "<td>0.8524804</td>\n",
       "<td>108.3550914</td>\n",
       "<td>108.3550914</td></tr>\n",
       "<tr><td></td>\n",
       "<td>2</td>\n",
       "<td>0.5</td>\n",
       "<td>0.0000000</td>\n",
       "<td>1.6237328</td>\n",
       "<td>2.0</td>\n",
       "<td>0.7793103</td>\n",
       "<td>0.7793103</td>\n",
       "<td>0.9598997</td>\n",
       "<td>0.9598997</td>\n",
       "<td>0.1475196</td>\n",
       "<td>1.0</td>\n",
       "<td>62.3732781</td>\n",
       "<td>100.0</td></tr>\n",
       "<tr><td></td>\n",
       "<td>3</td>\n",
       "<td>0.6002506</td>\n",
       "<td>0.0000000</td>\n",
       "<td>0.0</td>\n",
       "<td>1.6659708</td>\n",
       "<td>0.0</td>\n",
       "<td>0.0000000</td>\n",
       "<td>0.7995825</td>\n",
       "<td>0.7995825</td>\n",
       "<td>0.0</td>\n",
       "<td>1.0</td>\n",
       "<td>-100.0</td>\n",
       "<td>66.5970772</td></tr>\n",
       "<tr><td></td>\n",
       "<td>4</td>\n",
       "<td>0.6998747</td>\n",
       "<td>0.0000000</td>\n",
       "<td>0.0</td>\n",
       "<td>1.4288272</td>\n",
       "<td>0.0</td>\n",
       "<td>0.0000000</td>\n",
       "<td>0.6857654</td>\n",
       "<td>0.6857654</td>\n",
       "<td>0.0</td>\n",
       "<td>1.0</td>\n",
       "<td>-100.0</td>\n",
       "<td>42.8827216</td></tr>\n",
       "<tr><td></td>\n",
       "<td>5</td>\n",
       "<td>0.8020050</td>\n",
       "<td>0.0000000</td>\n",
       "<td>0.0</td>\n",
       "<td>1.246875</td>\n",
       "<td>0.0</td>\n",
       "<td>0.0000000</td>\n",
       "<td>0.5984375</td>\n",
       "<td>0.5984375</td>\n",
       "<td>0.0</td>\n",
       "<td>1.0</td>\n",
       "<td>-100.0</td>\n",
       "<td>24.6875000</td></tr>\n",
       "<tr><td></td>\n",
       "<td>6</td>\n",
       "<td>0.9010025</td>\n",
       "<td>0.0000000</td>\n",
       "<td>0.0</td>\n",
       "<td>1.1098748</td>\n",
       "<td>0.0</td>\n",
       "<td>0.0000000</td>\n",
       "<td>0.5326843</td>\n",
       "<td>0.5326843</td>\n",
       "<td>0.0</td>\n",
       "<td>1.0</td>\n",
       "<td>-100.0</td>\n",
       "<td>10.9874826</td></tr>\n",
       "<tr><td></td>\n",
       "<td>7</td>\n",
       "<td>1.0</td>\n",
       "<td>0.0000000</td>\n",
       "<td>0.0</td>\n",
       "<td>1.0</td>\n",
       "<td>0.0</td>\n",
       "<td>0.0000000</td>\n",
       "<td>0.4799499</td>\n",
       "<td>0.4799499</td>\n",
       "<td>0.0</td>\n",
       "<td>1.0</td>\n",
       "<td>-100.0</td>\n",
       "<td>0.0</td></tr></table></div>"
      ],
      "text/plain": [
       "    group    cumulative_data_fraction    lower_threshold    lift     cumulative_lift    response_rate    score        cumulative_response_rate    cumulative_score    capture_rate    cumulative_capture_rate    gain     cumulative_gain\n",
       "--  -------  --------------------------  -----------------  -------  -----------------  ---------------  -----------  --------------------------  ------------------  --------------  -------------------------  -------  -----------------\n",
       "    1        0.409148                    1                  2.08355  2.08355            1                1            1                           1                   0.85248         0.85248                    108.355  108.355\n",
       "    2        0.5                         2.96859e-18        1.62373  2                  0.77931          0.77931      0.9599                      0.9599              0.14752         1                          62.3733  100\n",
       "    3        0.600251                    7.167e-19          0        1.66597            0                1.5219e-18   0.799582                    0.799582            0               1                          -100     66.5971\n",
       "    4        0.699875                    3.82199e-19        0        1.42883            0                4.94822e-19  0.685765                    0.685765            0               1                          -100     42.8827\n",
       "    5        0.802005                    3.17003e-19        0        1.24687            0                3.42293e-19  0.598437                    0.598437            0               1                          -100     24.6875\n",
       "    6        0.901003                    2.8331e-19         0        1.10987            0                2.99788e-19  0.532684                    0.532684            0               1                          -100     10.9875\n",
       "    7        1                           2.2295e-19         0        1                  0                2.63637e-19  0.47995                     0.47995             0               1                          -100     0"
      ]
     },
     "metadata": {},
     "output_type": "display_data"
    },
    {
     "name": "stdout",
     "output_type": "stream",
     "text": [
      "\n",
      "\n"
     ]
    }
   ],
   "source": [
    "perf = aml.leader.model_performance(test)\n",
    "print(perf)"
   ]
  },
  {
   "cell_type": "code",
   "execution_count": 13,
   "metadata": {},
   "outputs": [
    {
     "data": {
      "text/html": [
       "<table>\n",
       "<thead>\n",
       "<tr><th>model_id                                           </th><th style=\"text-align: right;\">  auc</th><th style=\"text-align: right;\">    logloss</th><th style=\"text-align: right;\">  mean_per_class_error</th><th style=\"text-align: right;\">       rmse</th><th style=\"text-align: right;\">        mse</th></tr>\n",
       "</thead>\n",
       "<tbody>\n",
       "<tr><td>GBM_2_AutoML_20190615_195945                       </td><td style=\"text-align: right;\">    1</td><td style=\"text-align: right;\">5.5455e-16 </td><td style=\"text-align: right;\">                     0</td><td style=\"text-align: right;\">3.2472e-14 </td><td style=\"text-align: right;\">1.05443e-27</td></tr>\n",
       "<tr><td>XGBoost_3_AutoML_20190615_195945                   </td><td style=\"text-align: right;\">    1</td><td style=\"text-align: right;\">0.00323586 </td><td style=\"text-align: right;\">                     0</td><td style=\"text-align: right;\">0.0123523  </td><td style=\"text-align: right;\">0.00015258 </td></tr>\n",
       "<tr><td>GBM_4_AutoML_20190615_195945                       </td><td style=\"text-align: right;\">    1</td><td style=\"text-align: right;\">2.82063e-16</td><td style=\"text-align: right;\">                     0</td><td style=\"text-align: right;\">1.59713e-14</td><td style=\"text-align: right;\">2.55082e-28</td></tr>\n",
       "<tr><td>GBM_5_AutoML_20190615_195945                       </td><td style=\"text-align: right;\">    1</td><td style=\"text-align: right;\">4.38166e-12</td><td style=\"text-align: right;\">                     0</td><td style=\"text-align: right;\">2.53392e-10</td><td style=\"text-align: right;\">6.42073e-20</td></tr>\n",
       "<tr><td>XGBoost_grid_1_AutoML_20190615_195945_model_2      </td><td style=\"text-align: right;\">    1</td><td style=\"text-align: right;\">0.00418088 </td><td style=\"text-align: right;\">                     0</td><td style=\"text-align: right;\">0.0170381  </td><td style=\"text-align: right;\">0.000290297</td></tr>\n",
       "<tr><td>GBM_grid_1_AutoML_20190615_195945_model_4          </td><td style=\"text-align: right;\">    1</td><td style=\"text-align: right;\">0.0487356  </td><td style=\"text-align: right;\">                     0</td><td style=\"text-align: right;\">0.0543486  </td><td style=\"text-align: right;\">0.00295377 </td></tr>\n",
       "<tr><td>XGBoost_grid_1_AutoML_20190615_195945_model_4      </td><td style=\"text-align: right;\">    1</td><td style=\"text-align: right;\">0.000982171</td><td style=\"text-align: right;\">                     0</td><td style=\"text-align: right;\">0.00349492 </td><td style=\"text-align: right;\">1.22145e-05</td></tr>\n",
       "<tr><td>GBM_grid_1_AutoML_20190615_195945_model_3          </td><td style=\"text-align: right;\">    1</td><td style=\"text-align: right;\">1.45631e-06</td><td style=\"text-align: right;\">                     0</td><td style=\"text-align: right;\">5.52475e-05</td><td style=\"text-align: right;\">3.05229e-09</td></tr>\n",
       "<tr><td>XGBoost_grid_1_AutoML_20190615_195945_model_1      </td><td style=\"text-align: right;\">    1</td><td style=\"text-align: right;\">0.000227151</td><td style=\"text-align: right;\">                     0</td><td style=\"text-align: right;\">0.00176039 </td><td style=\"text-align: right;\">3.09898e-06</td></tr>\n",
       "<tr><td>StackedEnsemble_BestOfFamily_AutoML_20190615_195945</td><td style=\"text-align: right;\">    1</td><td style=\"text-align: right;\">0.00137319 </td><td style=\"text-align: right;\">                     0</td><td style=\"text-align: right;\">0.00156024 </td><td style=\"text-align: right;\">2.43436e-06</td></tr>\n",
       "</tbody>\n",
       "</table>"
      ]
     },
     "metadata": {},
     "output_type": "display_data"
    },
    {
     "data": {
      "text/plain": []
     },
     "execution_count": 13,
     "metadata": {},
     "output_type": "execute_result"
    }
   ],
   "source": [
    "aml.leaderboard"
   ]
  },
  {
   "cell_type": "code",
   "execution_count": null,
   "metadata": {},
   "outputs": [],
   "source": []
  }
 ],
 "metadata": {
  "kernelspec": {
   "display_name": "Python 3",
   "language": "python",
   "name": "python3"
  },
  "language_info": {
   "codemirror_mode": {
    "name": "ipython",
    "version": 3
   },
   "file_extension": ".py",
   "mimetype": "text/x-python",
   "name": "python",
   "nbconvert_exporter": "python",
   "pygments_lexer": "ipython3",
   "version": "3.7.2"
  }
 },
 "nbformat": 4,
 "nbformat_minor": 2
}
